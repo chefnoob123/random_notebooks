{
 "cells": [
  {
   "cell_type": "code",
   "execution_count": null,
   "id": "ab714df0-b666-4ec8-9794-1058463140e5",
   "metadata": {},
   "outputs": [],
   "source": []
  }
 ],
 "metadata": {
  "kernelspec": {
   "display_name": "",
   "name": ""
  },
  "language_info": {
   "name": ""
  }
 },
 "nbformat": 4,
 "nbformat_minor": 5
}
